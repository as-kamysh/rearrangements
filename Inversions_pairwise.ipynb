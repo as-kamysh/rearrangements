{
 "cells": [
  {
   "cell_type": "code",
   "execution_count": null,
   "metadata": {},
   "outputs": [],
   "source": [
    "import re\n",
    "import matplotlib.pyplot as plt\n",
    "import numpy as np\n",
    "import pandas as pd\n",
    "import matplotlib.cm as cm\n",
    "import re\n",
    "import pprint\n",
    "from BCBio.GFF import GFFExaminer\n",
    "from BCBio import GFF\n",
    "from sklearn.metrics import r2_score"
   ]
  },
  {
   "cell_type": "code",
   "execution_count": null,
   "metadata": {},
   "outputs": [],
   "source": [
    "names_of_scaffolds = []\n",
    "for i in range(1, 26):\n",
    "    names_of_scaffolds.append('scaffold_' + str(i)) "
   ]
  },
  {
   "cell_type": "code",
   "execution_count": null,
   "metadata": {},
   "outputs": [],
   "source": [
    "with open('ref_' + 'A10' + '.maf') as fin:\n",
    "    fin.seek(0) #395\n",
    "    data = fin.read()\n",
    "data = data.split('\\n')"
   ]
  },
  {
   "cell_type": "code",
   "execution_count": null,
   "metadata": {},
   "outputs": [],
   "source": [
    "def inversion_search(datum):\n",
    "    inv = {}\n",
    "    for sc in datum.keys():\n",
    "        data = datum[sc]\n",
    "        inv[sc] = []\n",
    "        used_bps = []\n",
    "        for i in range(len(data)):\n",
    "            for j in range(len(data)):\n",
    "                if data[i][0] == data[j][0]:\n",
    "                    if data[i][3] != data[j][3]:\n",
    "                        #print('inv')\n",
    "                        if (abs(data[i][4] - data[j][5]) < 30) or (abs(data[j][4] - data[i][5]) < 30):\n",
    "                            if (abs(data[i][1] - data[j][2]) < 30) or (abs(data[j][1] - data[i][2]) < 30):\n",
    "                                if (data[i][-1] > 30) and (data[j][-1] > 30):\n",
    "                                    if (data[i][1] < data[j][1]):\n",
    "                                        if data[i] not in used_bps and data[j] not in used_bps:\n",
    "                                            already_in_list = 0\n",
    "                                            for x in inv[sc]:\n",
    "                                                #print(x, data[i])\n",
    "                                                if abs(x[0][1] - data[i][1]) < 30 or abs(x[1][1] - data[j][1]) < 30:\n",
    "                                                    already_in_list = 1\n",
    "                                            if already_in_list == 0:\n",
    "                                                inv[sc].append([data[i], data[j]])\n",
    "                                            used_bps.append(data[i])\n",
    "                                            used_bps.append(data[j])\n",
    "    return inv"
   ]
  },
  {
   "cell_type": "code",
   "execution_count": null,
   "metadata": {},
   "outputs": [],
   "source": []
  },
  {
   "cell_type": "code",
   "execution_count": null,
   "metadata": {},
   "outputs": [],
   "source": [
    "\n",
    "def get_data(mushroom_name):\n",
    "    names_of_scaffolds = []\n",
    "    for i in range(1, 26):\n",
    "        names_of_scaffolds.append('scaffold_' + str(i)) \n",
    "\n",
    "\n",
    "    filename = 'ref_' + mushroom_name + '.maf'\n",
    "    with open(filename) as fin:\n",
    "        fin.seek(0) #395\n",
    "        data = fin.read()\n",
    "    data = data.split('\\n')\n",
    "    for i in range(len(data)):\n",
    "        del data[0]\n",
    "        if data[0] == '':\n",
    "            del data[0]\n",
    "            break\n",
    "\n",
    "    lines = []\n",
    "    pos_start = 0\n",
    "    for x in data:\n",
    "        lines.append(x.split())\n",
    "    good_lines = {}\n",
    "    lines = [x for x in lines if x != []] \n",
    "    for i in range(len(lines)):\n",
    "        if lines[i][0] == 'a':\n",
    "            scaf_name = lines[i+1][1]\n",
    "            pos_start, length = lines[i+1][2], lines[i+1][3]\n",
    "            if scaf_name not in good_lines.keys():\n",
    "                good_lines[scaf_name] = []\n",
    "        else:\n",
    "            lines[i].append(pos_start)\n",
    "            lines[i].append(length)\n",
    "            good_lines[scaf_name].append(lines[i])\n",
    "    data_fin = {}\n",
    "    for name_of_scaffold in names_of_scaffolds:\n",
    "        if name_of_scaffold in good_lines.keys():\n",
    "            res = good_lines[name_of_scaffold]\n",
    "\n",
    "            # leaving only necessary information\n",
    "            data_fin_sc = []\n",
    "            for x in res:\n",
    "                if x[1].startswith('NODE'):\n",
    "                    data_fin_sc.append([x[1], int(x[-2]), int(x[-2]) + int(x[-1]), x[4], int(x[2]), int(x[2]) + int(x[-1]), int(x[-1])])\n",
    "            data_fin[name_of_scaffold] = data_fin_sc\n",
    "    return data_fin\n",
    "\n"
   ]
  },
  {
   "cell_type": "code",
   "execution_count": null,
   "metadata": {},
   "outputs": [],
   "source": [
    "def mushroom_names():\n",
    "    with open(\"tba_ref_ordered.maf\") as fin:\n",
    "        fin.seek(33)\n",
    "        data = fin.read(1000000)\n",
    "\n",
    "    names_of_mushrooms = []\n",
    "    find = re.compile(\"^(.*)\\..*\")\n",
    "    for line in data.splitlines():\n",
    "        if len(line) > 2:\n",
    "            m = re.match(find, line.split()[1])\n",
    "            if type(m) == re.Match: \n",
    "                names_of_mushrooms.append(m.group(1))\n",
    "    del names_of_mushrooms[0]\n",
    "    del names_of_mushrooms[0]\n",
    "    real_names_of_mushrooms = []\n",
    "    for x in names_of_mushrooms:\n",
    "        if not x.startswith('score'):\n",
    "            if x not in real_names_of_mushrooms:\n",
    "                real_names_of_mushrooms.append(x)\n",
    "    real_names_of_mushrooms.remove('ref')\n",
    "    return real_names_of_mushrooms\n",
    "\n",
    "mushroom_names = mushroom_names()\n",
    "\n",
    "\n",
    "\n"
   ]
  },
  {
   "cell_type": "code",
   "execution_count": null,
   "metadata": {},
   "outputs": [],
   "source": [
    "mushroom_names = ['X-9_S78', 'X-12_S79', 'X-17_S80', 'X-27_S82', 'X-30_S83',\n",
    "                  'X-69_S85', 'S1_contigs', 'S2_contigs', 'S4_contigs',\n",
    "                 '14-01_S62', '14-101_S73', '14-102_S74', '14-104_S75',\n",
    "                  '14-112_S77', '14-11_S63', '14-24', '14-25_S64',\n",
    "                  '14-29_S65', '14-31_S66', '14-32_S67', '14-34_S68',\n",
    "                  '14-41', '14-67_S84', '14-70_S69', '14-85_S70',\n",
    "                  '14-89_S71', '14-90_S72', '14-96', 'A10_contigs',\n",
    "                  'A3_contigs', 'B3_contigs', 'B6_contigs',\n",
    "                  'A7_contigs', 'B1_contigs', 'B5_contigs', 'A5_contigs',\n",
    "                  'A4_contigs', 'A13_contigs','K1_contigs', 'K3_contigs', 'K4_contigs',\n",
    "                  'M2_contigs', 'M3_contigs', 'K1_contigs', 'K3_contigs', 'K4_contigs',\n",
    "                  'FL_contigs', 'M1_contigs', 'X-21_S81', 'X-44', '15-14_S76', 'A8_contigs',\n",
    "                  'M4_contigs', 'M5_contigs', 'M6_contigs', 'Mi1_contigs', 'Mos_contigs']\n",
    "\n",
    "# for m in mushroom_names:\n",
    "#     filename = 'ref_' + m + '.maf'\n",
    "#     with open(filename) as fin:\n",
    "#         fin.seek(0) #395\n",
    "#         data = fin.read()\n",
    "#     data = data.split('\\n')\n",
    "\n",
    "#!  'A8_contigs'\n",
    "\n"
   ]
  },
  {
   "cell_type": "code",
   "execution_count": null,
   "metadata": {},
   "outputs": [],
   "source": [
    "inv = {}"
   ]
  },
  {
   "cell_type": "code",
   "execution_count": null,
   "metadata": {},
   "outputs": [],
   "source": [
    "#mushroom_names = ['X-12_S79']\n",
    "for mushroom_name in mushroom_names:\n",
    "    print(mushroom_name)\n",
    "    data_fin = get_data(mushroom_name)\n",
    "    inv[mushroom_name] = inversion_search(data_fin)"
   ]
  },
  {
   "cell_type": "code",
   "execution_count": null,
   "metadata": {},
   "outputs": [],
   "source": [
    "len(mushroom_names)"
   ]
  },
  {
   "cell_type": "code",
   "execution_count": null,
   "metadata": {},
   "outputs": [],
   "source": [
    "inv = {}"
   ]
  },
  {
   "cell_type": "code",
   "execution_count": null,
   "metadata": {},
   "outputs": [],
   "source": [
    "mushroom_names_ad = ['X-21_S81', 'X-44', '15-14_S76', 'A8_contigs', 'M4_contigs', 'M5_contigs', 'M6_contigs',\n",
    "                  'Mi1_contigs', 'Mos_contigs']"
   ]
  },
  {
   "cell_type": "code",
   "execution_count": null,
   "metadata": {},
   "outputs": [],
   "source": [
    "for mushroom_name in mushroom_names_ad:\n",
    "    print(mushroom_name)\n",
    "    data_fin = get_data(mushroom_name)\n",
    "    inv[mushroom_name] = inversion_search(data_fin)"
   ]
  },
  {
   "cell_type": "code",
   "execution_count": null,
   "metadata": {},
   "outputs": [],
   "source": [
    "len(inv.keys())"
   ]
  },
  {
   "cell_type": "markdown",
   "metadata": {},
   "source": [
    "# Writing data"
   ]
  },
  {
   "cell_type": "code",
   "execution_count": null,
   "metadata": {},
   "outputs": [],
   "source": [
    "inv_df = pd.DataFrame(inv)\n",
    "#inv_df_3.to_csv('inv_df_pairwise_all.csv')\n"
   ]
  },
  {
   "cell_type": "code",
   "execution_count": null,
   "metadata": {},
   "outputs": [],
   "source": [
    "origin = {}\n",
    "for name in mushroom_names:\n",
    "    if name[0] in ['A', 'B', '1']:\n",
    "        origin[name] = 'a'\n",
    "    else:\n",
    "        origin[name] = 'r'\n",
    "        \n",
    "        \n",
    "origin['s1514'] = 'a' #fl\n",
    "origin['FL'] = 'a' #fl\n",
    "origin['Mi1'] = 'a'"
   ]
  },
  {
   "cell_type": "markdown",
   "metadata": {},
   "source": [
    "# Reading data"
   ]
  },
  {
   "cell_type": "code",
   "execution_count": null,
   "metadata": {},
   "outputs": [],
   "source": [
    "inv_df = pd.read_csv('inv_df_pairwise_all.csv',  error_bad_lines=False)\n",
    "inv_df = inv_df.rename({'Unnamed: 0': 'sample'}, axis='columns')\n"
   ]
  },
  {
   "cell_type": "code",
   "execution_count": null,
   "metadata": {},
   "outputs": [],
   "source": [
    "inv_df.set_index('sample', inplace=True)\n",
    "dict_inv = inv_df.to_dict()\n"
   ]
  },
  {
   "cell_type": "code",
   "execution_count": null,
   "metadata": {},
   "outputs": [],
   "source": [
    "fin_dict = {}\n",
    "for m in dict_inv.keys():\n",
    "    fin_dict[m] = {}\n",
    "    for sc in dict_inv[m].keys():\n",
    "        if type(dict_inv[m][sc]) is not float:\n",
    "            if len(dict_inv[m][sc]) == 2:\n",
    "                fin_dict[m][sc] = []\n",
    "            else:\n",
    "                fin_dict[m][sc] = []\n",
    "                for x in dict_inv[m][sc][3:-3].split('], ['):\n",
    "                    res = []\n",
    "                    for y in x.split(', '):\n",
    "                        if y.startswith(\"'\"):\n",
    "                            res.append(y[1:-1])\n",
    "                        elif y[-1] == ']':\n",
    "                            res.append(y[:-1])\n",
    "                        elif y.startswith(\"[\"):\n",
    "                            res.append(y[2:-1])\n",
    "                        else:\n",
    "                            res.append(y)\n",
    "                    fin_dict[m][sc].append(res)"
   ]
  },
  {
   "cell_type": "code",
   "execution_count": null,
   "metadata": {},
   "outputs": [],
   "source": [
    "all_inv = {}\n",
    "for sc in names_of_scaffolds:\n",
    "    all_inv[sc] = {}\n",
    "    \n",
    "    \n",
    "for m in fin_dict.keys():\n",
    "    for sc in fin_dict[m].keys():\n",
    "        for x in fin_dict[m][sc]: # every inv\n",
    "            appended = 0 \n",
    "            for y in all_inv[sc].keys(): # every inversion already in the list\n",
    "                if abs(int(x[2]) - y) < 100:\n",
    "                    if m not in all_inv[sc][y]:\n",
    "                        all_inv[sc][y].append(m) \n",
    "                    appended = 1\n",
    "            if appended == 0:\n",
    "                all_inv[sc][int(x[2])] = [m]"
   ]
  },
  {
   "cell_type": "code",
   "execution_count": null,
   "metadata": {},
   "outputs": [],
   "source": [
    "len(fin_dict.keys())"
   ]
  },
  {
   "cell_type": "code",
   "execution_count": null,
   "metadata": {},
   "outputs": [],
   "source": [
    "for key1 in all_inv['scaffold_10']:\n",
    "    for key2 in all_inv['scaffold_10']:\n",
    "        if key1 != key2:\n",
    "            if abs(key1 - key2) < 100:\n",
    "                print(key1, key2)"
   ]
  },
  {
   "cell_type": "code",
   "execution_count": null,
   "metadata": {},
   "outputs": [],
   "source": [
    "all_inv_listed = {}\n",
    "for sc in all_inv.keys():\n",
    "    for c in all_inv[sc].keys():\n",
    "        all_inv_listed[sc + '_' + str(c)] = all_inv[sc][c]"
   ]
  },
  {
   "cell_type": "code",
   "execution_count": null,
   "metadata": {},
   "outputs": [],
   "source": [
    "all_inv_freq = {}\n",
    "for k in all_inv_listed.keys():\n",
    "    all_inv_freq[k] = len(all_inv_listed[k])"
   ]
  },
  {
   "cell_type": "code",
   "execution_count": null,
   "metadata": {},
   "outputs": [],
   "source": [
    "plt.hist(all_inv_freq.values(), bins=np.arange(0,16)+0.5, color = \"#b0c40c\")\n",
    "plt.title('Frequencies of inversion breakpoints')\n",
    "plt.xlabel('Number of organisms')\n",
    "plt.ylabel('Number of inversion breakpoints')\n",
    "plt.show()"
   ]
  },
  {
   "cell_type": "code",
   "execution_count": null,
   "metadata": {},
   "outputs": [],
   "source": [
    "origin = {}\n",
    "for name in fin_dict.keys():\n",
    "    if name[0] in ['A', 'B', '1']:\n",
    "        origin[name] = 'a'\n",
    "    else:\n",
    "        origin[name] = 'r'\n",
    "        \n",
    "        \n",
    "origin['s1514'] = 'a'\n",
    "origin['FL_contigs'] = 'a'\n",
    "origin['Mi1'] = 'a'"
   ]
  },
  {
   "cell_type": "code",
   "execution_count": null,
   "metadata": {},
   "outputs": [],
   "source": [
    "len(fin_dict.keys())"
   ]
  },
  {
   "cell_type": "raw",
   "metadata": {},
   "source": []
  },
  {
   "cell_type": "code",
   "execution_count": null,
   "metadata": {},
   "outputs": [],
   "source": [
    "am_inv_freq = {}\n",
    "rus_inv_freq = {}\n",
    "for k in all_inv_listed.keys():\n",
    "    rus_inv_freq[k] = 0\n",
    "    am_inv_freq[k] = 0\n",
    "    for x in all_inv_listed[k]:\n",
    "        if origin[x] == 'r':\n",
    "            rus_inv_freq[k] += 1\n",
    "        else:\n",
    "            am_inv_freq[k] += 1\n",
    "am_inv_freq = {k: v for k, v in am_inv_freq.items() if v != 0}\n",
    "rus_inv_freq = {k: v for k, v in rus_inv_freq.items() if v != 0}"
   ]
  },
  {
   "cell_type": "code",
   "execution_count": null,
   "metadata": {},
   "outputs": [],
   "source": [
    "plt.hist(rus_inv_freq.values(), bins=np.arange(0,16)+0.5, color = \"#b0c40c\")\n",
    "plt.title('Frequencies of inversion breakpoints in Russian population')\n",
    "plt.xlabel('Number of organisms')\n",
    "plt.ylabel('Number of inversion breakpoints')\n",
    "plt.show()"
   ]
  },
  {
   "cell_type": "code",
   "execution_count": null,
   "metadata": {},
   "outputs": [],
   "source": [
    "plt.hist(am_inv_freq.values(), bins=np.arange(0,22)+0.5, color = \"#b0c40c\")\n",
    "plt.title('Frequencies of inversion breakpoints in American population')\n",
    "plt.xlabel('Number of organisms')\n",
    "plt.ylabel('Number of inversion breakpoints')\n",
    "plt.show()"
   ]
  },
  {
   "cell_type": "markdown",
   "metadata": {},
   "source": [
    "# checking if we know at least some lengths"
   ]
  },
  {
   "cell_type": "code",
   "execution_count": null,
   "metadata": {},
   "outputs": [],
   "source": [
    "fin_dict_paired = {}\n",
    "for m in fin_dict.keys():\n",
    "    fin_dict_paired[m] = {}\n",
    "    for sc in fin_dict[m].keys():\n",
    "        fin_dict_paired[m][sc] = []\n",
    "        for i in range(len(fin_dict[m][sc])//2):\n",
    "            res = [fin_dict[m][sc][i*2], fin_dict[m][sc][i*2+1]]\n",
    "            fin_dict_paired[m][sc].append(res)"
   ]
  },
  {
   "cell_type": "code",
   "execution_count": null,
   "metadata": {},
   "outputs": [],
   "source": [
    "lengths = {}\n",
    "num_inv = 0\n",
    "\n",
    "for m in fin_dict_paired.keys():\n",
    "    lengths[m] = []\n",
    "    for sc in fin_dict_paired[m].keys():     \n",
    "        used = []\n",
    "        for bp1 in fin_dict_paired[m][sc]:\n",
    "            for bp2 in fin_dict_paired[m][sc]:\n",
    "                if bp1 != bp2:\n",
    "                    if bp1[0][0] == bp2[0][0]:\n",
    "                        if bp1[0][3] != bp2[0][3]:\n",
    "                            if bp1 not in used and bp2 not in used:\n",
    "                                used.append(bp1)\n",
    "                                used.append(bp2)\n",
    "                                length = abs(int(bp1[0][2]) - int(bp2[0][2]))\n",
    "                                lengths[m].append(length)\n",
    "                                num_inv += 1"
   ]
  },
  {
   "cell_type": "code",
   "execution_count": null,
   "metadata": {},
   "outputs": [],
   "source": [
    "lengths_list = []\n",
    "lengths_r = []\n",
    "lengths_am = []\n",
    "\n",
    "for m in lengths.keys():\n",
    "    if len(lengths[m]) != 0:\n",
    "        for x in lengths[m]:\n",
    "            lengths_list.append(x)\n",
    "            if origin[m] == 'r':\n",
    "                lengths_r.append(x)\n",
    "            else:\n",
    "                lengths_am.append(x)"
   ]
  },
  {
   "cell_type": "code",
   "execution_count": null,
   "metadata": {},
   "outputs": [],
   "source": [
    "np.mean(lengths_list)"
   ]
  },
  {
   "cell_type": "code",
   "execution_count": null,
   "metadata": {},
   "outputs": [],
   "source": [
    "np.median(lengths_list)"
   ]
  },
  {
   "cell_type": "code",
   "execution_count": null,
   "metadata": {},
   "outputs": [],
   "source": [
    "len(lengths_list)"
   ]
  },
  {
   "cell_type": "code",
   "execution_count": null,
   "metadata": {},
   "outputs": [],
   "source": [
    "def plot_loghist(x, bins):\n",
    "  hist, bins = np.histogram(x, bins=bins)\n",
    "  logbins = np.logspace(np.log10(bins[0]),np.log10(bins[-1]),len(bins))\n",
    "  plt.hist(x, bins=logbins,  color = \"#b0c40c\")\n",
    "  plt.xscale('log')\n",
    "\n",
    "plot_loghist(lengths_list, 10)\n",
    "\n",
    "\n",
    "\n",
    "plt.title(\"Distribution of inversion lengths\")\n",
    "plt.ylabel('Number of inversions')\n",
    "plt.xlabel('Length, bp')\n",
    "plt.yticks(range(0, 15, 1))\n",
    "plt.show()"
   ]
  },
  {
   "cell_type": "code",
   "execution_count": null,
   "metadata": {},
   "outputs": [],
   "source": [
    "plot_loghist(lengths_r, 10)\n",
    "plt.title(\"Distribution of inversion lengths, Russian samples\")\n",
    "plt.ylabel('Number of inversions')\n",
    "plt.xlabel('Length, bp')\n",
    "plt.show()"
   ]
  },
  {
   "cell_type": "code",
   "execution_count": null,
   "metadata": {},
   "outputs": [],
   "source": [
    "plot_loghist(lengths_am, 10)\n",
    "plt.title(\"Distribution of inversion lengths, American samples\")\n",
    "plt.ylabel('Number of inversions')\n",
    "plt.xlabel('Length, bp')\n",
    "plt.show()"
   ]
  },
  {
   "cell_type": "code",
   "execution_count": null,
   "metadata": {},
   "outputs": [],
   "source": [
    "num_rus = 0\n",
    "for m in origin.keys():\n",
    "    if origin[m] == 'r':\n",
    "        num_rus +=1\n",
    "print(num_rus)"
   ]
  },
  {
   "cell_type": "markdown",
   "metadata": {},
   "source": [
    "# Only real inversions"
   ]
  },
  {
   "cell_type": "code",
   "execution_count": null,
   "metadata": {},
   "outputs": [],
   "source": [
    "fin_dict_paired = {}\n",
    "for m in fin_dict.keys():\n",
    "    fin_dict_paired[m] = {}\n",
    "    for sc in fin_dict[m].keys():\n",
    "        fin_dict_paired[m][sc] = []\n",
    "        for i in range(len(fin_dict[m][sc])//2):\n",
    "            fin_dict_paired[m][sc].append([fin_dict[m][sc][i*2],  fin_dict[m][sc][i*2+1]])"
   ]
  },
  {
   "cell_type": "code",
   "execution_count": null,
   "metadata": {},
   "outputs": [],
   "source": [
    "real_inv = {}\n",
    "cs = []\n",
    "for m in fin_dict_paired.keys():\n",
    "    real_inv[m] = {}\n",
    "    data = get_data(m)\n",
    "    for sc in fin_dict_paired[m].keys():\n",
    "        real_inv[m][sc] = []\n",
    "        for x in fin_dict_paired[m][sc]:\n",
    "            coord = np.mean([int(x[0][2]), int(x[1][1])])\n",
    "            c = 0\n",
    "            for line in data[sc]:\n",
    "                #if abs(line[1] - coord) < 30 or abs(line[2] - coord) < 30:\n",
    "                if line[1] < coord:\n",
    "                    if line[2] > coord:\n",
    "                        c += 1\n",
    "            cs.append(c)\n",
    "            if c < 3:\n",
    "                real_inv[m][sc].append(x)\n",
    "                "
   ]
  },
  {
   "cell_type": "code",
   "execution_count": null,
   "metadata": {},
   "outputs": [],
   "source": [
    "def plot_loghist(x, bins):\n",
    "  hist, bins = np.histogram(x, bins=bins)\n",
    "  logbins = np.logspace(np.log10(bins[0]),np.log10(bins[-1]),len(bins))\n",
    "  plt.hist(x, bins=logbins,  color = \"#b0c40c\")\n",
    "  plt.xscale('log')\n",
    "\n",
    "cs_1 = [x for x in cs if x != 0]\n",
    "plot_loghist(cs_1, 10)\n",
    "plt.show()"
   ]
  },
  {
   "cell_type": "code",
   "execution_count": null,
   "metadata": {},
   "outputs": [],
   "source": [
    "real_inv"
   ]
  },
  {
   "cell_type": "code",
   "execution_count": null,
   "metadata": {},
   "outputs": [],
   "source": [
    "for x in cs:\n",
    "    if x < 2:\n",
    "        print(x)"
   ]
  },
  {
   "cell_type": "code",
   "execution_count": null,
   "metadata": {
    "scrolled": true
   },
   "outputs": [],
   "source": [
    "pd.DataFrame.from_dict(real_inv)"
   ]
  },
  {
   "cell_type": "code",
   "execution_count": null,
   "metadata": {},
   "outputs": [],
   "source": [
    "all_inv = {}\n",
    "for sc in names_of_scaffolds:\n",
    "    all_inv[sc] = {}\n",
    "    \n",
    "    \n",
    "for m in real_inv.keys():\n",
    "    for sc in real_inv[m].keys():\n",
    "        for x in real_inv[m][sc]: # every inv\n",
    "            appended = 0 \n",
    "            for y in all_inv[sc].keys(): # every inversion already in the list\n",
    "                if abs(int(x[0][2]) - y) < 100:\n",
    "                    if m not in all_inv[sc][y]:\n",
    "                        all_inv[sc][y].append(m) \n",
    "                    appended = 1\n",
    "            if appended == 0:\n",
    "                all_inv[sc][np.mean([int(x[0][2]), int(x[1][1])])] = [m]"
   ]
  },
  {
   "cell_type": "code",
   "execution_count": null,
   "metadata": {},
   "outputs": [],
   "source": [
    "\n",
    "all_inv_listed = {}\n",
    "for sc in all_inv.keys():\n",
    "    for c in all_inv[sc].keys():\n",
    "        all_inv_listed[sc + '_' + str(c)] = all_inv[sc][c]\n",
    "\n",
    "all_inv_freq = {}\n",
    "for k in all_inv_listed.keys():\n",
    "    all_inv_freq[k] = len(all_inv_listed[k])\n",
    "\n",
    "plt.hist(all_inv_freq.values(), bins=np.arange(0,16)+0.5, color = \"#b0c40c\")\n",
    "plt.title('Frequencies of inversion breakpoints')\n",
    "plt.xlabel('Number of organisms')\n",
    "plt.ylabel('Number of inversion breakpoints')\n",
    "plt.show()"
   ]
  },
  {
   "cell_type": "code",
   "execution_count": null,
   "metadata": {},
   "outputs": [],
   "source": [
    "all_inv_listed"
   ]
  },
  {
   "cell_type": "markdown",
   "metadata": {},
   "source": [
    "Strange but maybe"
   ]
  },
  {
   "cell_type": "code",
   "execution_count": null,
   "metadata": {},
   "outputs": [],
   "source": [
    "real_inv"
   ]
  },
  {
   "cell_type": "code",
   "execution_count": null,
   "metadata": {},
   "outputs": [],
   "source": [
    "\n",
    "def check_others():\n",
    "    no_inv = {}\n",
    "    for m1 in real_inv.keys():\n",
    "        no_inv[m1] = {}\n",
    "        data = get_data(m1)\n",
    "        for sc in real_inv[m1].keys():\n",
    "            no_inv[m1][sc] = []\n",
    "            for m in real_inv.keys():\n",
    "                if sc in real_inv[m].keys():\n",
    "                    if real_inv[m][sc] != []:\n",
    "                        #print(real_inv[m][sc][0][0])\n",
    "                        coord1 = min(int(real_inv[m][sc][0][0][2]), int(real_inv[m][sc][0][1][1]))\n",
    "                        coord2 = max(int(real_inv[m][sc][0][0][2]), int(real_inv[m][sc][0][1][1]))\n",
    "                        no_inv_fl = 0\n",
    "                        for line in data[sc]:\n",
    "                            if int(line[1]) < coord1 and int(line[2]) > coord2:\n",
    "                                no_inv_fl = 1\n",
    "                        if no_inv_fl == 0:\n",
    "                            no_inv[m1][sc].append(real_inv[m][sc])\n",
    "    return no_inv\n",
    "                    \n",
    "                    "
   ]
  },
  {
   "cell_type": "code",
   "execution_count": null,
   "metadata": {},
   "outputs": [],
   "source": [
    "no_inv = check_others()"
   ]
  },
  {
   "cell_type": "code",
   "execution_count": null,
   "metadata": {},
   "outputs": [],
   "source": [
    "no_inv_listed = {}\n",
    "for m in no_inv.keys():\n",
    "    for sc in no_inv[m].keys():\n",
    "        for inv in no_inv[m][sc]:\n",
    "            coord = np.mean([int(inv[0][0][2]), int(inv[0][1][1])])\n",
    "            if sc + '_' + str(coord) in no_inv_listed.keys():\n",
    "                no_inv_listed[sc + '_' + str(coord)].append(m)\n",
    "            else: \n",
    "                no_inv_listed[sc + '_' + str(coord)] = [m]"
   ]
  },
  {
   "cell_type": "code",
   "execution_count": null,
   "metadata": {},
   "outputs": [],
   "source": [
    "no_inv_listed"
   ]
  },
  {
   "cell_type": "code",
   "execution_count": null,
   "metadata": {},
   "outputs": [],
   "source": [
    "all_inv_listed"
   ]
  },
  {
   "cell_type": "code",
   "execution_count": null,
   "metadata": {},
   "outputs": [],
   "source": [
    "def rear_inv(datum):\n",
    "    inv = {}\n",
    "    for sc in datum.keys():\n",
    "        data = datum[sc]\n",
    "        inv[sc] = []\n",
    "        used_bps = []\n",
    "        for i in range(len(data)):\n",
    "            for j in range(len(data)):\n",
    "                if data[i][0] == data[j][0]:\n",
    "                    if data[i][3] != data[j][3]:\n",
    "                        #print('inv')\n",
    "                        if (abs(data[i][1] - data[j][2]) < 30) or (abs(data[j][1] - data[i][2]) < 30):\n",
    "                            if (data[i][-1] > 30) and (data[j][-1] > 30):\n",
    "                                if (data[i][1] < data[j][1]):\n",
    "                                    if data[i] not in used_bps and data[j] not in used_bps:\n",
    "                                        already_in_list = 0\n",
    "                                        for x in inv[sc]:\n",
    "                                            #print(x, data[i])\n",
    "                                            if abs(x[0][1] - data[i][1]) < 30 or abs(x[1][1] - data[j][1]) < 30:\n",
    "                                                already_in_list = 1\n",
    "                                        if already_in_list == 0:\n",
    "                                            inv[sc].append([data[i], data[j]])\n",
    "                                        used_bps.append(data[i])\n",
    "                                        used_bps.append(data[j])\n",
    "    return inv"
   ]
  },
  {
   "cell_type": "code",
   "execution_count": null,
   "metadata": {},
   "outputs": [],
   "source": [
    "rear_inv_d = {}\n",
    "for mushroom_name in mushroom_names:\n",
    "    print(mushroom_name)\n",
    "    data_fin = get_data(mushroom_name)\n",
    "    rear_inv_d[mushroom_name] = rear_inv(data_fin)"
   ]
  },
  {
   "cell_type": "code",
   "execution_count": null,
   "metadata": {},
   "outputs": [],
   "source": [
    "rear_df = pd.DataFrame(rear_inv_d)\n",
    "rear_df.to_csv('rear_df_pairwise_all.csv')\n"
   ]
  },
  {
   "cell_type": "code",
   "execution_count": null,
   "metadata": {},
   "outputs": [],
   "source": [
    "rear_df = pd.read_csv('rear_df_pairwise_all.csv',  error_bad_lines=False)\n",
    "rear_df = rear_df.rename({'Unnamed: 0': 'sample'}, axis='columns')\n"
   ]
  },
  {
   "cell_type": "code",
   "execution_count": null,
   "metadata": {},
   "outputs": [],
   "source": [
    "inv_df.set_index('sample', inplace=True)\n",
    "dict_inv = inv_df.to_dict()\n",
    "\n",
    "\n",
    "fin_dict = {}\n",
    "for m in dict_inv.keys():\n",
    "    fin_dict[m] = {}\n",
    "    for sc in dict_inv[m].keys():\n",
    "        if type(dict_inv[m][sc]) is not float:\n",
    "            if len(dict_inv[m][sc]) == 2:\n",
    "                fin_dict[m][sc] = []\n",
    "            else:\n",
    "                fin_dict[m][sc] = []\n",
    "                for x in dict_inv[m][sc][3:-3].split('], ['):\n",
    "                    res = []\n",
    "                    for y in x.split(', '):\n",
    "                        if y.startswith(\"'\"):\n",
    "                            res.append(y[1:-1])\n",
    "                        elif y[-1] == ']':\n",
    "                            res.append(y[:-1])\n",
    "                        elif y.startswith(\"[\"):\n",
    "                            res.append(y[2:-1])\n",
    "                        else:\n",
    "                            res.append(y)\n",
    "                    fin_dict[m][sc].append(res)"
   ]
  },
  {
   "cell_type": "code",
   "execution_count": null,
   "metadata": {},
   "outputs": [],
   "source": []
  },
  {
   "cell_type": "code",
   "execution_count": null,
   "metadata": {},
   "outputs": [],
   "source": []
  },
  {
   "cell_type": "code",
   "execution_count": null,
   "metadata": {},
   "outputs": [],
   "source": []
  },
  {
   "cell_type": "code",
   "execution_count": null,
   "metadata": {},
   "outputs": [],
   "source": []
  },
  {
   "cell_type": "code",
   "execution_count": null,
   "metadata": {},
   "outputs": [],
   "source": []
  },
  {
   "cell_type": "code",
   "execution_count": null,
   "metadata": {},
   "outputs": [],
   "source": []
  },
  {
   "cell_type": "code",
   "execution_count": null,
   "metadata": {},
   "outputs": [],
   "source": [
    "real_inv.keys()"
   ]
  },
  {
   "cell_type": "code",
   "execution_count": null,
   "metadata": {},
   "outputs": [],
   "source": [
    "data = get_data('X-9_S78')\n",
    "coord = 103082\n",
    "for line in data['scaffold_3']:\n",
    "    if abs(line[1] - coord) < 100:\n",
    "        print(line)\n",
    "    if abs(line[2] - coord) < 100:\n",
    "        print(line)    "
   ]
  },
  {
   "cell_type": "code",
   "execution_count": null,
   "metadata": {},
   "outputs": [],
   "source": [
    "data = get_data('14-31_S66')\n",
    "coord = 103082\n",
    "for line in data['scaffold_3']:\n",
    "    if abs(line[1] - coord) < 1000:\n",
    "        print(line)\n",
    "    if abs(line[2] - coord) < 1000:\n",
    "        print(line) "
   ]
  },
  {
   "cell_type": "code",
   "execution_count": null,
   "metadata": {},
   "outputs": [],
   "source": []
  },
  {
   "cell_type": "code",
   "execution_count": null,
   "metadata": {},
   "outputs": [],
   "source": []
  },
  {
   "cell_type": "code",
   "execution_count": null,
   "metadata": {},
   "outputs": [],
   "source": []
  },
  {
   "cell_type": "code",
   "execution_count": null,
   "metadata": {},
   "outputs": [],
   "source": [
    "data = get_data('FL_contigs')\n",
    "coord = 318998\n",
    "for line in data['scaffold_7']:\n",
    "    if abs(line[1] - coord) < 100:\n",
    "        print(line)\n",
    "    if abs(line[2] - coord) < 100:\n",
    "        print(line)    "
   ]
  },
  {
   "cell_type": "markdown",
   "metadata": {},
   "source": [
    "Good breakpoint (inside CDS)"
   ]
  },
  {
   "cell_type": "code",
   "execution_count": null,
   "metadata": {},
   "outputs": [],
   "source": [
    "data = get_data('14-24')\n",
    "coord = 592750\n",
    "for line in data['scaffold_2']:\n",
    "    if abs(line[1] - coord) < 100:\n",
    "        print(line)\n",
    "    if abs(line[2] - coord) < 100:\n",
    "        print(line)    "
   ]
  },
  {
   "cell_type": "code",
   "execution_count": null,
   "metadata": {},
   "outputs": [],
   "source": [
    "data = get_data('M4_contigs')\n",
    "coord = 2802673\n",
    "for line in data['scaffold_4']:\n",
    "    if abs(line[1] - coord) < 100:\n",
    "        print(line)\n",
    "    if abs(line[2] - coord) < 100:\n",
    "        print(line)  "
   ]
  },
  {
   "cell_type": "code",
   "execution_count": null,
   "metadata": {},
   "outputs": [],
   "source": [
    "data = get_data('A10_contigs')\n",
    "coord = 2802673\n",
    "for line in data['scaffold_4']:\n",
    "    if abs(line[1] - coord) < 1000:\n",
    "        print(line)\n",
    "    if abs(line[2] - coord) < 1000:\n",
    "        print(line)  "
   ]
  },
  {
   "cell_type": "markdown",
   "metadata": {},
   "source": [
    "Questionable breakpoint"
   ]
  },
  {
   "cell_type": "code",
   "execution_count": null,
   "metadata": {},
   "outputs": [],
   "source": [
    "data = get_data('X-69_S85')\n",
    "coord = 1108053\n",
    "for line in data['scaffold_7']:\n",
    "    if abs(line[1] - coord) < 100:\n",
    "        print(line)\n",
    "    if abs(line[2] - coord) < 100:\n",
    "        print(line)  "
   ]
  },
  {
   "cell_type": "markdown",
   "metadata": {},
   "source": [
    "Good beakpoint"
   ]
  },
  {
   "cell_type": "code",
   "execution_count": null,
   "metadata": {},
   "outputs": [],
   "source": [
    "data = get_data('A5_contigs')\n",
    "coord = 194921\n",
    "for line in data['scaffold_6']:\n",
    "    if abs(line[1] - coord) < 100:\n",
    "        print(line)\n",
    "    if abs(line[2] - coord) < 100:\n",
    "        print(line)  "
   ]
  },
  {
   "cell_type": "code",
   "execution_count": null,
   "metadata": {},
   "outputs": [],
   "source": []
  },
  {
   "cell_type": "code",
   "execution_count": null,
   "metadata": {},
   "outputs": [],
   "source": []
  },
  {
   "cell_type": "markdown",
   "metadata": {},
   "source": [
    "# Distribution by scaffold"
   ]
  },
  {
   "cell_type": "code",
   "execution_count": null,
   "metadata": {},
   "outputs": [],
   "source": [
    "with open (\"scaffolds_len_ref.txt\") as fin:\n",
    "    data = fin.read()\n",
    "data = data.splitlines()"
   ]
  },
  {
   "cell_type": "code",
   "execution_count": null,
   "metadata": {},
   "outputs": [],
   "source": [
    "scaf_len = {}\n",
    "for i in range(len(data)//2):\n",
    "    scaf_len[data[2*i][1:]] = int(data[2*i+1])"
   ]
  },
  {
   "cell_type": "code",
   "execution_count": null,
   "metadata": {},
   "outputs": [],
   "source": [
    "scaf_len"
   ]
  },
  {
   "cell_type": "code",
   "execution_count": null,
   "metadata": {},
   "outputs": [],
   "source": [
    "scaff_counts = {}\n",
    "for sc in all_inv.keys():\n",
    "    scaff_counts[sc] = 0\n",
    "    for x in all_inv[sc]:\n",
    "        scaff_counts[sc] += 1"
   ]
  },
  {
   "cell_type": "code",
   "execution_count": null,
   "metadata": {},
   "outputs": [],
   "source": [
    "plt.bar(range(1,26), list(scaff_counts.values()))\n",
    "plt.show()"
   ]
  },
  {
   "cell_type": "code",
   "execution_count": null,
   "metadata": {},
   "outputs": [],
   "source": [
    "x = list(scaf_len.values())\n",
    "y = list(scaff_counts.values())\n",
    "correlation_matrix = np.corrcoef(x, y)\n",
    "correlation_xy = correlation_matrix[0,1]\n",
    "r_squared = correlation_xy**2"
   ]
  },
  {
   "cell_type": "code",
   "execution_count": null,
   "metadata": {},
   "outputs": [],
   "source": [
    "r_squared"
   ]
  },
  {
   "cell_type": "code",
   "execution_count": null,
   "metadata": {},
   "outputs": [],
   "source": [
    "\n",
    "plt.scatter(x,  y, s=6)\n",
    "plt.xlabel('Length of scaffold, bp')\n",
    "plt.ylabel('Number of breakpoints')\n",
    "plt.title('The correlation between the number of breakpoints and the length of the scaffold')\n",
    "plt.show()"
   ]
  },
  {
   "cell_type": "code",
   "execution_count": null,
   "metadata": {},
   "outputs": [],
   "source": [
    "scaff_counts.values()"
   ]
  },
  {
   "cell_type": "code",
   "execution_count": null,
   "metadata": {},
   "outputs": [],
   "source": [
    "sum(y)"
   ]
  },
  {
   "cell_type": "markdown",
   "metadata": {},
   "source": [
    "# Inversions breaking genes"
   ]
  },
  {
   "cell_type": "code",
   "execution_count": null,
   "metadata": {},
   "outputs": [],
   "source": [
    "in_file = \"Schco3.filtered_proteins.FilteredModels1.gff3\"\n",
    "examiner = GFFExaminer()\n",
    "in_handle = open(in_file)\n",
    "pprint.pprint(examiner.available_limits(in_handle))\n",
    "in_handle.close()"
   ]
  },
  {
   "cell_type": "code",
   "execution_count": null,
   "metadata": {},
   "outputs": [],
   "source": [
    "genes = {}\n",
    "for scaffold_name in names_of_scaffolds:\n",
    "    sc = 'scaffold_' + re.findall('[0-9]+', scaffold_name)[0]\n",
    "    limit_info = dict(gff_id=[sc], gff_type=['gene'])\n",
    "    gene_locs = []\n",
    "\n",
    "    in_handle = open(in_file)\n",
    "    for rec in GFF.parse(in_handle, limit_info=limit_info):\n",
    "        feature = rec.features\n",
    "        for seq in feature:\n",
    "            gene_locs.append(seq.location)\n",
    "    in_handle.close()\n",
    "    gene_coords = []\n",
    "    for loc in gene_locs:\n",
    "        gene_coords.append([int(loc.start), int(loc.end)])\n",
    "    genes[scaffold_name] = gene_coords"
   ]
  },
  {
   "cell_type": "code",
   "execution_count": null,
   "metadata": {},
   "outputs": [],
   "source": [
    "inv_breaking_genes = []\n",
    "for sc in all_inv.keys():\n",
    "    for c in all_inv[sc].keys():\n",
    "        for gene in genes[sc]:\n",
    "            if gene[0] < c and gene[1] > c:\n",
    "                inv_breaking_genes.append(all_inv[sc][c])"
   ]
  },
  {
   "cell_type": "code",
   "execution_count": null,
   "metadata": {},
   "outputs": [],
   "source": [
    "len(inv_breaking_genes)"
   ]
  },
  {
   "cell_type": "code",
   "execution_count": null,
   "metadata": {},
   "outputs": [],
   "source": [
    "inv_breaking_genes"
   ]
  },
  {
   "cell_type": "code",
   "execution_count": null,
   "metadata": {},
   "outputs": [],
   "source": [
    "num = 0\n",
    "for sc in all_inv.keys():\n",
    "    num += len(all_inv[sc])\n",
    "print(num)"
   ]
  },
  {
   "cell_type": "code",
   "execution_count": null,
   "metadata": {},
   "outputs": [],
   "source": [
    "len(all_"
   ]
  },
  {
   "cell_type": "code",
   "execution_count": null,
   "metadata": {},
   "outputs": [],
   "source": [
    "num/753"
   ]
  },
  {
   "cell_type": "code",
   "execution_count": null,
   "metadata": {},
   "outputs": [],
   "source": []
  },
  {
   "cell_type": "code",
   "execution_count": null,
   "metadata": {},
   "outputs": [],
   "source": []
  },
  {
   "cell_type": "markdown",
   "metadata": {},
   "source": [
    "calculating which part of genome is genes"
   ]
  },
  {
   "cell_type": "code",
   "execution_count": null,
   "metadata": {},
   "outputs": [],
   "source": [
    "gene_length = 0\n",
    "for sc in names_of_scaffolds:\n",
    "        for gene in genes[sc]:\n",
    "            gene_length += gene[1] - gene[0]\n"
   ]
  },
  {
   "cell_type": "code",
   "execution_count": null,
   "metadata": {},
   "outputs": [],
   "source": [
    "25510111/35000000"
   ]
  },
  {
   "cell_type": "code",
   "execution_count": null,
   "metadata": {},
   "outputs": [],
   "source": [
    "gene_length"
   ]
  },
  {
   "cell_type": "code",
   "execution_count": null,
   "metadata": {},
   "outputs": [],
   "source": [
    "genes"
   ]
  },
  {
   "cell_type": "code",
   "execution_count": null,
   "metadata": {},
   "outputs": [],
   "source": [
    "sc_length = {}\n",
    "with open(\"tba_ref_ordered.maf\") as fin:\n",
    "    fin.seek(33)\n",
    "    data = fin.read()\n",
    "data = data.split('\\n')\n",
    "for line in data:\n",
    "    ar = line.split(' ')\n",
    "    if len(ar) > 2:\n",
    "        if ar[1].startswith('ref'):\n",
    "            if ar[1] not in sc_length.keys():\n",
    "                sc_length[ar[1]] = int(ar[-2])"
   ]
  },
  {
   "cell_type": "code",
   "execution_count": null,
   "metadata": {},
   "outputs": [],
   "source": [
    "total_length = 0\n",
    "for sc in sc_length.keys():\n",
    "    total_length += sc_length[sc]"
   ]
  },
  {
   "cell_type": "code",
   "execution_count": null,
   "metadata": {},
   "outputs": [],
   "source": [
    "total_length"
   ]
  },
  {
   "cell_type": "code",
   "execution_count": null,
   "metadata": {},
   "outputs": [],
   "source": [
    "gene_length/total_length"
   ]
  },
  {
   "cell_type": "markdown",
   "metadata": {},
   "source": [
    "# Inversions breaking genes"
   ]
  },
  {
   "cell_type": "code",
   "execution_count": null,
   "metadata": {},
   "outputs": [],
   "source": [
    "genes = {}\n",
    "for scaffold_name in names_of_scaffolds:\n",
    "    sc = 'scaffold_' + re.findall('[0-9]+', scaffold_name)[0]\n",
    "    limit_info = dict(gff_id=[sc], gff_type=['gene'])\n",
    "    gene_locs = []\n",
    "\n",
    "    in_handle = open(in_file)\n",
    "    for rec in GFF.parse(in_handle, limit_info=limit_info):\n",
    "        feature = rec.features\n",
    "        for seq in feature:\n",
    "            gene_locs.append(seq.location)\n",
    "    in_handle.close()\n",
    "    gene_coords = []\n",
    "    for loc in gene_locs:\n",
    "        gene_coords.append([int(loc.start), int(loc.end)])\n",
    "    genes[scaffold_name] = gene_coords"
   ]
  },
  {
   "cell_type": "code",
   "execution_count": null,
   "metadata": {},
   "outputs": [],
   "source": [
    "inv_breaking_genes = []\n",
    "for sc in all_inv.keys():\n",
    "    for c in all_inv[sc].keys():\n",
    "        for gene in genes[sc]:\n",
    "            if gene[0] < c and gene[1] > c:\n",
    "                inv_breaking_genes.append(all_inv[sc][c])"
   ]
  },
  {
   "cell_type": "code",
   "execution_count": null,
   "metadata": {},
   "outputs": [],
   "source": [
    "len(inv_breaking_genes)"
   ]
  },
  {
   "cell_type": "code",
   "execution_count": null,
   "metadata": {},
   "outputs": [],
   "source": [
    "121/753"
   ]
  },
  {
   "cell_type": "code",
   "execution_count": null,
   "metadata": {},
   "outputs": [],
   "source": [
    " am_inv_freq"
   ]
  },
  {
   "cell_type": "markdown",
   "metadata": {},
   "source": [
    "# Most common inversions"
   ]
  },
  {
   "cell_type": "markdown",
   "metadata": {},
   "source": [
    "Only in Russian mushrooms"
   ]
  },
  {
   "cell_type": "code",
   "execution_count": null,
   "metadata": {},
   "outputs": [],
   "source": [
    "for inv in rus_inv_freq.keys():\n",
    "        if rus_inv_freq[inv] > 10:\n",
    "            print(inv, all_inv_listed[inv])"
   ]
  },
  {
   "cell_type": "code",
   "execution_count": null,
   "metadata": {},
   "outputs": [],
   "source": [
    "for inv in all_inv_listed.keys():\n",
    "    if inv not in am_inv_freq.keys():\n",
    "        if rus_inv_freq[inv] > 1:\n",
    "            print(inv, all_inv_listed[inv])"
   ]
  },
  {
   "cell_type": "code",
   "execution_count": null,
   "metadata": {},
   "outputs": [],
   "source": [
    "origin\n"
   ]
  },
  {
   "cell_type": "code",
   "execution_count": null,
   "metadata": {},
   "outputs": [],
   "source": [
    "num = {}\n",
    "for m in fin_dict.keys():\n",
    "    num[m] = 0\n",
    "    for sc in fin_dict[m].keys():\n",
    "        num[m] += len(fin_dict[m][sc])"
   ]
  },
  {
   "cell_type": "code",
   "execution_count": null,
   "metadata": {},
   "outputs": [],
   "source": [
    "num_rus = []\n",
    "num_am = []\n",
    "for m in num.keys():\n",
    "    if origin[m] == 'r':\n",
    "        num_rus.append(num[m])\n",
    "    else:\n",
    "        num_am.append(num[m])"
   ]
  },
  {
   "cell_type": "code",
   "execution_count": null,
   "metadata": {},
   "outputs": [],
   "source": [
    "plt.boxplot([num_rus, num_am], labels = ['Russia', 'USA'])\n",
    "plt.ylabel('Number of inversion breakpoints')\n",
    "plt.show()"
   ]
  },
  {
   "cell_type": "code",
   "execution_count": null,
   "metadata": {},
   "outputs": [],
   "source": [
    "np.mean(num_rus)"
   ]
  },
  {
   "cell_type": "code",
   "execution_count": null,
   "metadata": {},
   "outputs": [],
   "source": [
    "np.mean(num_am)"
   ]
  },
  {
   "cell_type": "code",
   "execution_count": null,
   "metadata": {},
   "outputs": [],
   "source": [
    "num['M3_contigs'] =25"
   ]
  },
  {
   "cell_type": "code",
   "execution_count": null,
   "metadata": {},
   "outputs": [],
   "source": [
    "num"
   ]
  },
  {
   "cell_type": "code",
   "execution_count": null,
   "metadata": {},
   "outputs": [],
   "source": [
    "fin_dict['X-12_S79']"
   ]
  },
  {
   "cell_type": "code",
   "execution_count": null,
   "metadata": {},
   "outputs": [],
   "source": [
    "np.sum(list(rus_inv_freq.values()))/15"
   ]
  },
  {
   "cell_type": "code",
   "execution_count": null,
   "metadata": {},
   "outputs": [],
   "source": [
    "np.sum(list(am_inv_freq.values()))/30"
   ]
  },
  {
   "cell_type": "code",
   "execution_count": null,
   "metadata": {},
   "outputs": [],
   "source": [
    "num_rus = 0\n",
    "for m in origin.keys():\n",
    "    if origin[m] == 'r':\n",
    "        num_rus +=1\n",
    "print(num_rus)"
   ]
  },
  {
   "cell_type": "code",
   "execution_count": null,
   "metadata": {},
   "outputs": [],
   "source": []
  },
  {
   "cell_type": "code",
   "execution_count": null,
   "metadata": {},
   "outputs": [],
   "source": []
  },
  {
   "cell_type": "code",
   "execution_count": null,
   "metadata": {},
   "outputs": [],
   "source": []
  },
  {
   "cell_type": "code",
   "execution_count": null,
   "metadata": {},
   "outputs": [],
   "source": [
    "data = get_data('A10_contigs')"
   ]
  },
  {
   "cell_type": "code",
   "execution_count": null,
   "metadata": {},
   "outputs": [],
   "source": [
    "num = {}\n",
    "for sc in names_of_scaffolds:\n",
    "    num[sc] = 0\n",
    "    for line in data[sc]:\n",
    "        if line[0].startswith('NODE_49_'):\n",
    "            num[sc] +=1"
   ]
  },
  {
   "cell_type": "code",
   "execution_count": null,
   "metadata": {},
   "outputs": [],
   "source": [
    "num"
   ]
  },
  {
   "cell_type": "code",
   "execution_count": null,
   "metadata": {},
   "outputs": [],
   "source": [
    "for line in data['scaffold_3']:\n",
    "    if abs(line[1] - 181781) < 100:\n",
    "        print(line)\n",
    "    if abs(line[2] - 181781) < 100:\n",
    "        print(line)\n",
    "    "
   ]
  },
  {
   "cell_type": "code",
   "execution_count": null,
   "metadata": {},
   "outputs": [],
   "source": [
    "data = get_data('X-17_S80')\n",
    "for line in data['scaffold_3']:\n",
    "    if abs(line[1] - 181781) < 100:\n",
    "        print(line)"
   ]
  },
  {
   "cell_type": "code",
   "execution_count": null,
   "metadata": {},
   "outputs": [],
   "source": [
    "data = get_data( '14-41')\n",
    "for line in data['scaffold_3']:\n",
    "    if abs(line[1] - 181781) < 100:\n",
    "        print(line)\n",
    "    if abs(line[2] - 181781) < 100:"
   ]
  },
  {
   "cell_type": "code",
   "execution_count": null,
   "metadata": {},
   "outputs": [],
   "source": [
    "for line in data['scaffold_3']:\n",
    "    if abs(line[1] - 181781) < 100:\n",
    "        print(line)\n",
    "    if abs(line[2] - 181781) < 100:\n",
    "        print(line)"
   ]
  },
  {
   "cell_type": "code",
   "execution_count": null,
   "metadata": {},
   "outputs": [],
   "source": [
    "len(fin_dict.keys())"
   ]
  },
  {
   "cell_type": "code",
   "execution_count": null,
   "metadata": {},
   "outputs": [],
   "source": []
  },
  {
   "cell_type": "code",
   "execution_count": null,
   "metadata": {},
   "outputs": [],
   "source": []
  },
  {
   "cell_type": "code",
   "execution_count": null,
   "metadata": {},
   "outputs": [],
   "source": []
  },
  {
   "cell_type": "code",
   "execution_count": null,
   "metadata": {},
   "outputs": [],
   "source": []
  },
  {
   "cell_type": "code",
   "execution_count": null,
   "metadata": {},
   "outputs": [],
   "source": []
  },
  {
   "cell_type": "code",
   "execution_count": null,
   "metadata": {},
   "outputs": [],
   "source": []
  },
  {
   "cell_type": "code",
   "execution_count": null,
   "metadata": {},
   "outputs": [],
   "source": []
  },
  {
   "cell_type": "code",
   "execution_count": null,
   "metadata": {},
   "outputs": [],
   "source": []
  },
  {
   "cell_type": "code",
   "execution_count": null,
   "metadata": {},
   "outputs": [],
   "source": []
  },
  {
   "cell_type": "code",
   "execution_count": null,
   "metadata": {},
   "outputs": [],
   "source": []
  },
  {
   "cell_type": "code",
   "execution_count": null,
   "metadata": {},
   "outputs": [],
   "source": []
  },
  {
   "cell_type": "code",
   "execution_count": null,
   "metadata": {},
   "outputs": [],
   "source": []
  },
  {
   "cell_type": "code",
   "execution_count": null,
   "metadata": {},
   "outputs": [],
   "source": []
  },
  {
   "cell_type": "code",
   "execution_count": null,
   "metadata": {},
   "outputs": [],
   "source": []
  },
  {
   "cell_type": "code",
   "execution_count": null,
   "metadata": {},
   "outputs": [],
   "source": []
  },
  {
   "cell_type": "code",
   "execution_count": null,
   "metadata": {},
   "outputs": [],
   "source": []
  },
  {
   "cell_type": "code",
   "execution_count": null,
   "metadata": {},
   "outputs": [],
   "source": []
  },
  {
   "cell_type": "code",
   "execution_count": null,
   "metadata": {},
   "outputs": [],
   "source": []
  },
  {
   "cell_type": "code",
   "execution_count": null,
   "metadata": {},
   "outputs": [],
   "source": []
  },
  {
   "cell_type": "code",
   "execution_count": null,
   "metadata": {},
   "outputs": [],
   "source": []
  },
  {
   "cell_type": "code",
   "execution_count": null,
   "metadata": {},
   "outputs": [],
   "source": []
  },
  {
   "cell_type": "code",
   "execution_count": null,
   "metadata": {},
   "outputs": [],
   "source": []
  },
  {
   "cell_type": "code",
   "execution_count": null,
   "metadata": {},
   "outputs": [],
   "source": []
  }
 ],
 "metadata": {
  "kernelspec": {
   "display_name": "Python 3",
   "language": "python",
   "name": "python3"
  },
  "language_info": {
   "codemirror_mode": {
    "name": "ipython",
    "version": 3
   },
   "file_extension": ".py",
   "mimetype": "text/x-python",
   "name": "python",
   "nbconvert_exporter": "python",
   "pygments_lexer": "ipython3",
   "version": "3.8.2"
  }
 },
 "nbformat": 4,
 "nbformat_minor": 4
}
